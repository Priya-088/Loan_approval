{
  "nbformat": 4,
  "nbformat_minor": 5,
  "metadata": {
    "kernelspec": {
      "display_name": "Python 3",
      "language": "python",
      "name": "python3"
    },
    "language_info": {
      "codemirror_mode": {
        "name": "ipython",
        "version": 3
      },
      "file_extension": ".py",
      "mimetype": "text/x-python",
      "name": "python",
      "nbconvert_exporter": "python",
      "pygments_lexer": "ipython3",
      "version": "3.8.8"
    },
    "colab": {
      "name": "Loan_acceptance.ipynb",
      "provenance": [],
      "collapsed_sections": []
    },
    "accelerator": "GPU"
  },
  "cells": [
    {
      "cell_type": "markdown",
      "metadata": {
        "id": "ZWDX3KGnrKxm"
      },
      "source": [
        "# Predicting Loan Approval\n",
        "Using the given dataset, we have to predict weather the loan will be approved or not."
      ],
      "id": "ZWDX3KGnrKxm"
    },
    {
      "cell_type": "markdown",
      "metadata": {
        "id": "35a7d98e"
      },
      "source": [
        "## Importing the required Libraries"
      ],
      "id": "35a7d98e"
    },
    {
      "cell_type": "code",
      "metadata": {
        "id": "dafcd07a"
      },
      "source": [
        "import pandas as pd\n",
        "import numpy as np\n",
        "import seaborn as sns\n",
        "from matplotlib import pyplot as plt\n",
        "import warnings\n",
        "warnings.filterwarnings('ignore')\n",
        "%matplotlib inline"
      ],
      "id": "dafcd07a",
      "execution_count": 1,
      "outputs": []
    },
    {
      "cell_type": "markdown",
      "metadata": {
        "id": "a1ce38bd"
      },
      "source": [
        "## Loading the Dataset"
      ],
      "id": "a1ce38bd"
    },
    {
      "cell_type": "code",
      "metadata": {
        "id": "18f980bc"
      },
      "source": [
        "df_1 = pd.read_csv('train_loan_accept.csv')\n",
        "df_2 = pd.read_csv('test_loan_accept.csv')"
      ],
      "id": "18f980bc",
      "execution_count": 2,
      "outputs": []
    },
    {
      "cell_type": "code",
      "metadata": {
        "colab": {
          "base_uri": "https://localhost:8080/"
        },
        "id": "6fe8c485",
        "outputId": "955dcb9a-deb9-4597-d02d-ebff0dc8b9c8"
      },
      "source": [
        "df_1.shape"
      ],
      "id": "6fe8c485",
      "execution_count": 3,
      "outputs": [
        {
          "output_type": "execute_result",
          "data": {
            "text/plain": [
              "(614, 13)"
            ]
          },
          "metadata": {
            "tags": []
          },
          "execution_count": 3
        }
      ]
    },
    {
      "cell_type": "code",
      "metadata": {
        "colab": {
          "base_uri": "https://localhost:8080/"
        },
        "id": "bc213ef9",
        "outputId": "252e866a-2e0f-459c-e16e-cee909e6abb3"
      },
      "source": [
        "df_2.shape"
      ],
      "id": "bc213ef9",
      "execution_count": 4,
      "outputs": [
        {
          "output_type": "execute_result",
          "data": {
            "text/plain": [
              "(367, 12)"
            ]
          },
          "metadata": {
            "tags": []
          },
          "execution_count": 4
        }
      ]
    },
    {
      "cell_type": "code",
      "metadata": {
        "colab": {
          "base_uri": "https://localhost:8080/",
          "height": 241
        },
        "id": "bad440a1",
        "outputId": "a54beeda-6bbd-453b-83d4-170d9402bfc3"
      },
      "source": [
        "df_1.head()"
      ],
      "id": "bad440a1",
      "execution_count": 5,
      "outputs": [
        {
          "output_type": "execute_result",
          "data": {
            "text/html": [
              "<div>\n",
              "<style scoped>\n",
              "    .dataframe tbody tr th:only-of-type {\n",
              "        vertical-align: middle;\n",
              "    }\n",
              "\n",
              "    .dataframe tbody tr th {\n",
              "        vertical-align: top;\n",
              "    }\n",
              "\n",
              "    .dataframe thead th {\n",
              "        text-align: right;\n",
              "    }\n",
              "</style>\n",
              "<table border=\"1\" class=\"dataframe\">\n",
              "  <thead>\n",
              "    <tr style=\"text-align: right;\">\n",
              "      <th></th>\n",
              "      <th>Loan_ID</th>\n",
              "      <th>Gender</th>\n",
              "      <th>Married</th>\n",
              "      <th>Dependents</th>\n",
              "      <th>Education</th>\n",
              "      <th>Self_Employed</th>\n",
              "      <th>ApplicantIncome</th>\n",
              "      <th>CoapplicantIncome</th>\n",
              "      <th>LoanAmount</th>\n",
              "      <th>Loan_Amount_Term</th>\n",
              "      <th>Credit_History</th>\n",
              "      <th>Property_Area</th>\n",
              "      <th>Loan_Status</th>\n",
              "    </tr>\n",
              "  </thead>\n",
              "  <tbody>\n",
              "    <tr>\n",
              "      <th>0</th>\n",
              "      <td>LP001002</td>\n",
              "      <td>Male</td>\n",
              "      <td>No</td>\n",
              "      <td>0</td>\n",
              "      <td>Graduate</td>\n",
              "      <td>No</td>\n",
              "      <td>5849</td>\n",
              "      <td>0.0</td>\n",
              "      <td>NaN</td>\n",
              "      <td>360.0</td>\n",
              "      <td>1.0</td>\n",
              "      <td>Urban</td>\n",
              "      <td>Y</td>\n",
              "    </tr>\n",
              "    <tr>\n",
              "      <th>1</th>\n",
              "      <td>LP001003</td>\n",
              "      <td>Male</td>\n",
              "      <td>Yes</td>\n",
              "      <td>1</td>\n",
              "      <td>Graduate</td>\n",
              "      <td>No</td>\n",
              "      <td>4583</td>\n",
              "      <td>1508.0</td>\n",
              "      <td>128.0</td>\n",
              "      <td>360.0</td>\n",
              "      <td>1.0</td>\n",
              "      <td>Rural</td>\n",
              "      <td>N</td>\n",
              "    </tr>\n",
              "    <tr>\n",
              "      <th>2</th>\n",
              "      <td>LP001005</td>\n",
              "      <td>Male</td>\n",
              "      <td>Yes</td>\n",
              "      <td>0</td>\n",
              "      <td>Graduate</td>\n",
              "      <td>Yes</td>\n",
              "      <td>3000</td>\n",
              "      <td>0.0</td>\n",
              "      <td>66.0</td>\n",
              "      <td>360.0</td>\n",
              "      <td>1.0</td>\n",
              "      <td>Urban</td>\n",
              "      <td>Y</td>\n",
              "    </tr>\n",
              "    <tr>\n",
              "      <th>3</th>\n",
              "      <td>LP001006</td>\n",
              "      <td>Male</td>\n",
              "      <td>Yes</td>\n",
              "      <td>0</td>\n",
              "      <td>Not Graduate</td>\n",
              "      <td>No</td>\n",
              "      <td>2583</td>\n",
              "      <td>2358.0</td>\n",
              "      <td>120.0</td>\n",
              "      <td>360.0</td>\n",
              "      <td>1.0</td>\n",
              "      <td>Urban</td>\n",
              "      <td>Y</td>\n",
              "    </tr>\n",
              "    <tr>\n",
              "      <th>4</th>\n",
              "      <td>LP001008</td>\n",
              "      <td>Male</td>\n",
              "      <td>No</td>\n",
              "      <td>0</td>\n",
              "      <td>Graduate</td>\n",
              "      <td>No</td>\n",
              "      <td>6000</td>\n",
              "      <td>0.0</td>\n",
              "      <td>141.0</td>\n",
              "      <td>360.0</td>\n",
              "      <td>1.0</td>\n",
              "      <td>Urban</td>\n",
              "      <td>Y</td>\n",
              "    </tr>\n",
              "  </tbody>\n",
              "</table>\n",
              "</div>"
            ],
            "text/plain": [
              "    Loan_ID Gender Married  ... Credit_History Property_Area Loan_Status\n",
              "0  LP001002   Male      No  ...            1.0         Urban           Y\n",
              "1  LP001003   Male     Yes  ...            1.0         Rural           N\n",
              "2  LP001005   Male     Yes  ...            1.0         Urban           Y\n",
              "3  LP001006   Male     Yes  ...            1.0         Urban           Y\n",
              "4  LP001008   Male      No  ...            1.0         Urban           Y\n",
              "\n",
              "[5 rows x 13 columns]"
            ]
          },
          "metadata": {
            "tags": []
          },
          "execution_count": 5
        }
      ]
    },
    {
      "cell_type": "code",
      "metadata": {
        "colab": {
          "base_uri": "https://localhost:8080/"
        },
        "id": "88cadc28",
        "outputId": "29f6c84d-2783-4f85-fbc0-b5b1064c8d5d"
      },
      "source": [
        "df_1.info()"
      ],
      "id": "88cadc28",
      "execution_count": 6,
      "outputs": [
        {
          "output_type": "stream",
          "text": [
            "<class 'pandas.core.frame.DataFrame'>\n",
            "RangeIndex: 614 entries, 0 to 613\n",
            "Data columns (total 13 columns):\n",
            " #   Column             Non-Null Count  Dtype  \n",
            "---  ------             --------------  -----  \n",
            " 0   Loan_ID            614 non-null    object \n",
            " 1   Gender             601 non-null    object \n",
            " 2   Married            611 non-null    object \n",
            " 3   Dependents         599 non-null    object \n",
            " 4   Education          614 non-null    object \n",
            " 5   Self_Employed      582 non-null    object \n",
            " 6   ApplicantIncome    614 non-null    int64  \n",
            " 7   CoapplicantIncome  614 non-null    float64\n",
            " 8   LoanAmount         592 non-null    float64\n",
            " 9   Loan_Amount_Term   600 non-null    float64\n",
            " 10  Credit_History     564 non-null    float64\n",
            " 11  Property_Area      614 non-null    object \n",
            " 12  Loan_Status        614 non-null    object \n",
            "dtypes: float64(4), int64(1), object(8)\n",
            "memory usage: 62.5+ KB\n"
          ],
          "name": "stdout"
        }
      ]
    },
    {
      "cell_type": "markdown",
      "metadata": {
        "id": "2e9c5ed3"
      },
      "source": [
        "## Preprocessing the data\n",
        "\n",
        "- Handling the missing values"
      ],
      "id": "2e9c5ed3"
    },
    {
      "cell_type": "code",
      "metadata": {
        "colab": {
          "base_uri": "https://localhost:8080/"
        },
        "id": "52a6ce78",
        "outputId": "811c3224-3269-462d-9183-46a661771a5a"
      },
      "source": [
        "df_1.isnull().sum()"
      ],
      "id": "52a6ce78",
      "execution_count": 7,
      "outputs": [
        {
          "output_type": "execute_result",
          "data": {
            "text/plain": [
              "Loan_ID               0\n",
              "Gender               13\n",
              "Married               3\n",
              "Dependents           15\n",
              "Education             0\n",
              "Self_Employed        32\n",
              "ApplicantIncome       0\n",
              "CoapplicantIncome     0\n",
              "LoanAmount           22\n",
              "Loan_Amount_Term     14\n",
              "Credit_History       50\n",
              "Property_Area         0\n",
              "Loan_Status           0\n",
              "dtype: int64"
            ]
          },
          "metadata": {
            "tags": []
          },
          "execution_count": 7
        }
      ]
    },
    {
      "cell_type": "code",
      "metadata": {
        "colab": {
          "base_uri": "https://localhost:8080/"
        },
        "id": "0a5e0b7a",
        "outputId": "9262eede-7861-4048-d160-52bfa734e8f2"
      },
      "source": [
        "df_2.isnull().sum()"
      ],
      "id": "0a5e0b7a",
      "execution_count": 8,
      "outputs": [
        {
          "output_type": "execute_result",
          "data": {
            "text/plain": [
              "Loan_ID               0\n",
              "Gender               11\n",
              "Married               0\n",
              "Dependents           10\n",
              "Education             0\n",
              "Self_Employed        23\n",
              "ApplicantIncome       0\n",
              "CoapplicantIncome     0\n",
              "LoanAmount            5\n",
              "Loan_Amount_Term      6\n",
              "Credit_History       29\n",
              "Property_Area         0\n",
              "dtype: int64"
            ]
          },
          "metadata": {
            "tags": []
          },
          "execution_count": 8
        }
      ]
    },
    {
      "cell_type": "code",
      "metadata": {
        "colab": {
          "base_uri": "https://localhost:8080/"
        },
        "id": "f8cf4029",
        "outputId": "be72bff2-e97d-4486-d730-c48db0d195c3"
      },
      "source": [
        "df_1.dtypes"
      ],
      "id": "f8cf4029",
      "execution_count": 9,
      "outputs": [
        {
          "output_type": "execute_result",
          "data": {
            "text/plain": [
              "Loan_ID               object\n",
              "Gender                object\n",
              "Married               object\n",
              "Dependents            object\n",
              "Education             object\n",
              "Self_Employed         object\n",
              "ApplicantIncome        int64\n",
              "CoapplicantIncome    float64\n",
              "LoanAmount           float64\n",
              "Loan_Amount_Term     float64\n",
              "Credit_History       float64\n",
              "Property_Area         object\n",
              "Loan_Status           object\n",
              "dtype: object"
            ]
          },
          "metadata": {
            "tags": []
          },
          "execution_count": 9
        }
      ]
    },
    {
      "cell_type": "markdown",
      "metadata": {
        "id": "093734c7"
      },
      "source": [
        "It is observed that train and test datasets has missing values and in the numerical variables the missing values are replaced by their mean or median and in catogorical variables we use mode."
      ],
      "id": "093734c7"
    },
    {
      "cell_type": "code",
      "metadata": {
        "colab": {
          "base_uri": "https://localhost:8080/",
          "height": 279
        },
        "id": "393615ee",
        "outputId": "91d01637-f328-4e58-b410-6a430d7b2e3b"
      },
      "source": [
        "#Analysing loan Amount for outliers,before making choice beteween mean and median we have to check for outliers.\n",
        "sns.boxplot(x=\"LoanAmount\", data=df_1);"
      ],
      "id": "393615ee",
      "execution_count": 10,
      "outputs": [
        {
          "output_type": "display_data",
          "data": {
            "image/png": "[encoded data removed]",
            "text/plain": [
              "<Figure size 432x288 with 1 Axes>"
            ]
          },
          "metadata": {
            "tags": [],
            "needs_background": "light"
          }
        }
      ]
    },
    {
      "cell_type": "code",
      "metadata": {
        "id": "64f5441d"
      },
      "source": [
        "Q1 = df_1['LoanAmount'].quantile(0.25)\n",
        "Q3 = df_1['LoanAmount'].quantile(0.75)\n",
        "IQR = Q3 - Q1"
      ],
      "id": "64f5441d",
      "execution_count": 11,
      "outputs": []
    },
    {
      "cell_type": "code",
      "metadata": {
        "colab": {
          "base_uri": "https://localhost:8080/"
        },
        "id": "89645455",
        "outputId": "eb430f23-eda5-4759-bcee-7dc5930a8abe"
      },
      "source": [
        "low_limit=Q1-1.5*IQR\n",
        "upper_limit=Q3+1.5*IQR\n",
        "print(low_limit,upper_limit)"
      ],
      "id": "89645455",
      "execution_count": 12,
      "outputs": [
        {
          "output_type": "stream",
          "text": [
            "-2.0 270.0\n"
          ],
          "name": "stdout"
        }
      ]
    },
    {
      "cell_type": "code",
      "metadata": {
        "colab": {
          "base_uri": "https://localhost:8080/"
        },
        "id": "1817cfe5",
        "outputId": "274a4865-1b9b-4bf3-e7c1-340f01f33acc"
      },
      "source": [
        "outlier=[]\n",
        "for x in df_1['LoanAmount']:\n",
        "    if ((x<low_limit) or (x>upper_limit)):\n",
        "        outlier.append(x)\n",
        "\n",
        "outlier\n"
      ],
      "id": "1817cfe5",
      "execution_count": 13,
      "outputs": [
        {
          "output_type": "execute_result",
          "data": {
            "text/plain": [
              "[349.0,\n",
              " 315.0,\n",
              " 320.0,\n",
              " 286.0,\n",
              " 312.0,\n",
              " 370.0,\n",
              " 650.0,\n",
              " 290.0,\n",
              " 600.0,\n",
              " 275.0,\n",
              " 700.0,\n",
              " 495.0,\n",
              " 280.0,\n",
              " 279.0,\n",
              " 304.0,\n",
              " 330.0,\n",
              " 436.0,\n",
              " 480.0,\n",
              " 300.0,\n",
              " 376.0,\n",
              " 490.0,\n",
              " 308.0,\n",
              " 570.0,\n",
              " 380.0,\n",
              " 296.0,\n",
              " 275.0,\n",
              " 360.0,\n",
              " 405.0,\n",
              " 500.0,\n",
              " 480.0,\n",
              " 311.0,\n",
              " 480.0,\n",
              " 400.0,\n",
              " 324.0,\n",
              " 600.0,\n",
              " 275.0,\n",
              " 292.0,\n",
              " 350.0,\n",
              " 496.0]"
            ]
          },
          "metadata": {
            "tags": []
          },
          "execution_count": 13
        }
      ]
    },
    {
      "cell_type": "code",
      "metadata": {
        "colab": {
          "base_uri": "https://localhost:8080/"
        },
        "id": "d7ce88f8",
        "outputId": "53335c85-af6d-44c3-85dd-d8bb637bc106"
      },
      "source": [
        "len(outlier)"
      ],
      "id": "d7ce88f8",
      "execution_count": 14,
      "outputs": [
        {
          "output_type": "execute_result",
          "data": {
            "text/plain": [
              "39"
            ]
          },
          "metadata": {
            "tags": []
          },
          "execution_count": 14
        }
      ]
    },
    {
      "cell_type": "markdown",
      "metadata": {
        "id": "c166fdc5"
      },
      "source": [
        "we will not remove the outliers becuase there are 39/614, which means it has 6.3% amount of data in whole. we will use median to replace the missing value, becuase median is not affected by the outliers."
      ],
      "id": "c166fdc5"
    },
    {
      "cell_type": "code",
      "metadata": {
        "id": "ef173b4f"
      },
      "source": [
        "#In train data handling missing values in numerical columns-mean, meadian\n",
        "df_1['LoanAmount']=df_1['LoanAmount'].fillna(df_1['LoanAmount'].median())\n",
        "df_1['Loan_Amount_Term']=df_1['Loan_Amount_Term'].fillna(df_1['Loan_Amount_Term'].mean())\n",
        "df_1['Credit_History']=df_1['Credit_History'].fillna(df_1['Credit_History'].mean())"
      ],
      "id": "ef173b4f",
      "execution_count": 15,
      "outputs": []
    },
    {
      "cell_type": "code",
      "metadata": {
        "id": "fcf71c76"
      },
      "source": [
        "#In train data handling missing values in catogorical columns-mode\n",
        "df_1['Gender']=df_1['Gender'].fillna(df_1['Gender'].mode()[0])\n",
        "df_1['Married']=df_1['Married'].fillna(df_1['Married'].mode()[0])\n",
        "df_1['Dependents']=df_1['Dependents'].fillna(df_1['Dependents'].mode()[0])\n",
        "df_1['Self_Employed']=df_1['Self_Employed'].fillna(df_1['Self_Employed'].mode()[0])"
      ],
      "id": "fcf71c76",
      "execution_count": 16,
      "outputs": []
    },
    {
      "cell_type": "code",
      "metadata": {
        "id": "b0dce8a1"
      },
      "source": [
        "#Handling the missing values in test data\n",
        "df_2['LoanAmount']=df_2['LoanAmount'].fillna(df_1['LoanAmount'].median())\n",
        "df_2['Loan_Amount_Term']=df_2['Loan_Amount_Term'].fillna(df_1['Loan_Amount_Term'].mean())\n",
        "df_2['Credit_History']=df_2['Credit_History'].fillna(df_1['Credit_History'].mean())\n",
        "df_2['Gender']=df_2['Gender'].fillna(df_1['Gender'].mode()[0])\n",
        "df_2['Married']=df_2['Married'].fillna(df_1['Married'].mode()[0])\n",
        "df_2['Dependents']=df_2['Dependents'].fillna(df_1['Dependents'].mode()[0])\n",
        "df_2['Self_Employed']=df_2['Self_Employed'].fillna(df_1['Self_Employed'].mode()[0])"
      ],
      "id": "b0dce8a1",
      "execution_count": 17,
      "outputs": []
    },
    {
      "cell_type": "markdown",
      "metadata": {
        "id": "e873bc35"
      },
      "source": [
        "## Exploratory Data Analysis"
      ],
      "id": "e873bc35"
    },
    {
      "cell_type": "code",
      "metadata": {
        "colab": {
          "base_uri": "https://localhost:8080/",
          "height": 297
        },
        "id": "d48b9174",
        "outputId": "e8bfd891-6e26-4e31-ceaa-e76e27b12c75"
      },
      "source": [
        "df_1.describe()"
      ],
      "id": "d48b9174",
      "execution_count": 18,
      "outputs": [
        {
          "output_type": "execute_result",
          "data": {
            "text/html": [
              "<div>\n",
              "<style scoped>\n",
              "    .dataframe tbody tr th:only-of-type {\n",
              "        vertical-align: middle;\n",
              "    }\n",
              "\n",
              "    .dataframe tbody tr th {\n",
              "        vertical-align: top;\n",
              "    }\n",
              "\n",
              "    .dataframe thead th {\n",
              "        text-align: right;\n",
              "    }\n",
              "</style>\n",
              "<table border=\"1\" class=\"dataframe\">\n",
              "  <thead>\n",
              "    <tr style=\"text-align: right;\">\n",
              "      <th></th>\n",
              "      <th>ApplicantIncome</th>\n",
              "      <th>CoapplicantIncome</th>\n",
              "      <th>LoanAmount</th>\n",
              "      <th>Loan_Amount_Term</th>\n",
              "      <th>Credit_History</th>\n",
              "    </tr>\n",
              "  </thead>\n",
              "  <tbody>\n",
              "    <tr>\n",
              "      <th>count</th>\n",
              "      <td>614.000000</td>\n",
              "      <td>614.000000</td>\n",
              "      <td>614.000000</td>\n",
              "      <td>614.000000</td>\n",
              "      <td>614.000000</td>\n",
              "    </tr>\n",
              "    <tr>\n",
              "      <th>mean</th>\n",
              "      <td>5403.459283</td>\n",
              "      <td>1621.245798</td>\n",
              "      <td>145.752443</td>\n",
              "      <td>342.000000</td>\n",
              "      <td>0.842199</td>\n",
              "    </tr>\n",
              "    <tr>\n",
              "      <th>std</th>\n",
              "      <td>6109.041673</td>\n",
              "      <td>2926.248369</td>\n",
              "      <td>84.107233</td>\n",
              "      <td>64.372489</td>\n",
              "      <td>0.349681</td>\n",
              "    </tr>\n",
              "    <tr>\n",
              "      <th>min</th>\n",
              "      <td>150.000000</td>\n",
              "      <td>0.000000</td>\n",
              "      <td>9.000000</td>\n",
              "      <td>12.000000</td>\n",
              "      <td>0.000000</td>\n",
              "    </tr>\n",
              "    <tr>\n",
              "      <th>25%</th>\n",
              "      <td>2877.500000</td>\n",
              "      <td>0.000000</td>\n",
              "      <td>100.250000</td>\n",
              "      <td>360.000000</td>\n",
              "      <td>1.000000</td>\n",
              "    </tr>\n",
              "    <tr>\n",
              "      <th>50%</th>\n",
              "      <td>3812.500000</td>\n",
              "      <td>1188.500000</td>\n",
              "      <td>128.000000</td>\n",
              "      <td>360.000000</td>\n",
              "      <td>1.000000</td>\n",
              "    </tr>\n",
              "    <tr>\n",
              "      <th>75%</th>\n",
              "      <td>5795.000000</td>\n",
              "      <td>2297.250000</td>\n",
              "      <td>164.750000</td>\n",
              "      <td>360.000000</td>\n",
              "      <td>1.000000</td>\n",
              "    </tr>\n",
              "    <tr>\n",
              "      <th>max</th>\n",
              "      <td>81000.000000</td>\n",
              "      <td>41667.000000</td>\n",
              "      <td>700.000000</td>\n",
              "      <td>480.000000</td>\n",
              "      <td>1.000000</td>\n",
              "    </tr>\n",
              "  </tbody>\n",
              "</table>\n",
              "</div>"
            ],
            "text/plain": [
              "       ApplicantIncome  CoapplicantIncome  ...  Loan_Amount_Term  Credit_History\n",
              "count       614.000000         614.000000  ...        614.000000      614.000000\n",
              "mean       5403.459283        1621.245798  ...        342.000000        0.842199\n",
              "std        6109.041673        2926.248369  ...         64.372489        0.349681\n",
              "min         150.000000           0.000000  ...         12.000000        0.000000\n",
              "25%        2877.500000           0.000000  ...        360.000000        1.000000\n",
              "50%        3812.500000        1188.500000  ...        360.000000        1.000000\n",
              "75%        5795.000000        2297.250000  ...        360.000000        1.000000\n",
              "max       81000.000000       41667.000000  ...        480.000000        1.000000\n",
              "\n",
              "[8 rows x 5 columns]"
            ]
          },
          "metadata": {
            "tags": []
          },
          "execution_count": 18
        }
      ]
    },
    {
      "cell_type": "markdown",
      "metadata": {
        "id": "aa5dadce"
      },
      "source": [
        "- Here mean of `ApplicantIncome` is much greater than median, Hence it is Right skewed in nature."
      ],
      "id": "aa5dadce"
    },
    {
      "cell_type": "code",
      "metadata": {
        "colab": {
          "base_uri": "https://localhost:8080/",
          "height": 279
        },
        "id": "db01d7c0",
        "outputId": "4d368892-be23-442d-9fa6-242dab17fdc6"
      },
      "source": [
        "#Categorical attribute visualisation\n",
        "sns.countplot(x='Gender',hue='Married',data=df_1);"
      ],
      "id": "db01d7c0",
      "execution_count": 19,
      "outputs": [
        {
          "output_type": "display_data",
          "data": {
            "image/png": "[encoded data removed]",
            "text/plain": [
              "<Figure size 432x288 with 1 Axes>"
            ]
          },
          "metadata": {
            "tags": [],
            "needs_background": "light"
          }
        }
      ]
    },
    {
      "cell_type": "markdown",
      "metadata": {
        "id": "42c7ed43"
      },
      "source": [
        "Above 500 applicants are male and majority are married and female applicants are about 100."
      ],
      "id": "42c7ed43"
    },
    {
      "cell_type": "code",
      "metadata": {
        "id": "93cdb3ce",
        "colab": {
          "base_uri": "https://localhost:8080/",
          "height": 279
        },
        "outputId": "d19764a2-3ff5-4637-9b29-c2d0457a4f89"
      },
      "source": [
        "sns.countplot(df_1['Dependents']);"
      ],
      "id": "93cdb3ce",
      "execution_count": 20,
      "outputs": [
        {
          "output_type": "display_data",
          "data": {
            "image/png": "[encoded data removed]",
            "text/plain": [
              "<Figure size 432x288 with 1 Axes>"
            ]
          },
          "metadata": {
            "tags": [],
            "needs_background": "light"
          }
        }
      ]
    },
    {
      "cell_type": "markdown",
      "metadata": {
        "id": "9808e19a"
      },
      "source": [
        "There are no dependents for majority of applicants and very few applicants like 55 have 3+ dependents."
      ],
      "id": "9808e19a"
    },
    {
      "cell_type": "code",
      "metadata": {
        "id": "f74bdc61",
        "colab": {
          "base_uri": "https://localhost:8080/",
          "height": 296
        },
        "outputId": "56f3645d-5c97-4b32-f608-0dc3126511df"
      },
      "source": [
        "sns.countplot(x=df_1['Education'],hue=df_1['Self_Employed'])"
      ],
      "id": "f74bdc61",
      "execution_count": 21,
      "outputs": [
        {
          "output_type": "execute_result",
          "data": {
            "text/plain": [
              "<matplotlib.axes._subplots.AxesSubplot at 0x7f226a8b7610>"
            ]
          },
          "metadata": {
            "tags": []
          },
          "execution_count": 21
        },
        {
          "output_type": "display_data",
          "data": {
            "image/png": "[encoded data removed]",
            "text/plain": [
              "<Figure size 432x288 with 1 Axes>"
            ]
          },
          "metadata": {
            "tags": [],
            "needs_background": "light"
          }
        }
      ]
    },
    {
      "cell_type": "markdown",
      "metadata": {
        "id": "5782e539"
      },
      "source": [
        "There are about 475 Graduate applicants and majory are not self employeed and rest are not educated and very few are self employed."
      ],
      "id": "5782e539"
    },
    {
      "cell_type": "code",
      "metadata": {
        "id": "819b30b5",
        "colab": {
          "base_uri": "https://localhost:8080/",
          "height": 280
        },
        "outputId": "8de82870-417e-4ccb-cb5c-8458976fbbb6"
      },
      "source": [
        "sns.countplot(df_1['Property_Area']);"
      ],
      "id": "819b30b5",
      "execution_count": 22,
      "outputs": [
        {
          "output_type": "display_data",
          "data": {
            "image/png": "[encoded data removed]",
            "text/plain": [
              "<Figure size 432x288 with 1 Axes>"
            ]
          },
          "metadata": {
            "tags": [],
            "needs_background": "light"
          }
        }
      ]
    },
    {
      "cell_type": "markdown",
      "metadata": {
        "id": "5f315f6b"
      },
      "source": [
        "Applicants belonging to Semi urban and urban are around 240 and 200 respectively and remaing belong to Rural area."
      ],
      "id": "5f315f6b"
    },
    {
      "cell_type": "markdown",
      "metadata": {
        "id": "0y4gyKX8SoI5"
      },
      "source": [
        "## Checking for Imbalance in the data"
      ],
      "id": "0y4gyKX8SoI5"
    },
    {
      "cell_type": "code",
      "metadata": {
        "colab": {
          "base_uri": "https://localhost:8080/",
          "height": 280
        },
        "id": "6e39332b",
        "outputId": "53e5090b-03b7-4639-97d3-195084eedc62"
      },
      "source": [
        "sns.countplot(df_1['Loan_Status']);"
      ],
      "id": "6e39332b",
      "execution_count": 23,
      "outputs": [
        {
          "output_type": "display_data",
          "data": {
            "image/png": "[encoded data removed]",
            "text/plain": [
              "<Figure size 432x288 with 1 Axes>"
            ]
          },
          "metadata": {
            "tags": [],
            "needs_background": "light"
          }
        }
      ]
    },
    {
      "cell_type": "code",
      "metadata": {
        "colab": {
          "base_uri": "https://localhost:8080/"
        },
        "id": "yzzHPuePTfgH",
        "outputId": "7c20fe6c-c2d9-4493-dad2-815b0cc40b87"
      },
      "source": [
        "approved = df_1.loc[df_1['Loan_Status']=='Y','Loan_Status']\n",
        "approved_per = len(approved)/len(df_1)\n",
        "not_approved = df_1.loc[df_1['Loan_Status']=='N', 'Loan_Status']\n",
        "not_approved_per = len(not_approved)/len(df_1)\n",
        "print('{} people got loan approval'.format(approved_per))\n",
        "print('{} people application got rejected'.format(not_approved_per))"
      ],
      "id": "yzzHPuePTfgH",
      "execution_count": 24,
      "outputs": [
        {
          "output_type": "stream",
          "text": [
            "0.6872964169381107 people got loan approval\n",
            "0.3127035830618892 people application got rejected\n"
          ],
          "name": "stdout"
        }
      ]
    },
    {
      "cell_type": "markdown",
      "metadata": {
        "id": "7cabff92"
      },
      "source": [
        "The people with Loan acceptence is around 69% and about 200 people don't get loan approval. There is a confirmation that the data has imbalance in classes."
      ],
      "id": "7cabff92"
    },
    {
      "cell_type": "code",
      "metadata": {
        "colab": {
          "base_uri": "https://localhost:8080/",
          "height": 296
        },
        "id": "ff4d9515",
        "outputId": "4d35e151-bec9-41a3-d700-c2bd0e07e80f"
      },
      "source": [
        "#Analysing numerical attributes\n",
        "sns.scatterplot(x='ApplicantIncome',y='LoanAmount',hue='Loan_Status',data=df_1)"
      ],
      "id": "ff4d9515",
      "execution_count": 25,
      "outputs": [
        {
          "output_type": "execute_result",
          "data": {
            "text/plain": [
              "<matplotlib.axes._subplots.AxesSubplot at 0x7f226ae0cfd0>"
            ]
          },
          "metadata": {
            "tags": []
          },
          "execution_count": 25
        },
        {
          "output_type": "display_data",
          "data": {
            "image/png": "[encoded data removed]",
            "text/plain": [
              "<Figure size 432x288 with 1 Axes>"
            ]
          },
          "metadata": {
            "tags": [],
            "needs_background": "light"
          }
        }
      ]
    },
    {
      "cell_type": "markdown",
      "metadata": {
        "id": "b6c96162"
      },
      "source": [
        "The following scatterplot between `ApplicantIncome` and `LoanAmount` indicates that most of persons has income with in 20000 and loan amount under 400, mainly people wanted to have a loan for lesser amount. This is shown by the distribution of points at left bottom of the figure. We can also see that loan status is not affected by the amount of loan or applicant's income. It varies through out the data."
      ],
      "id": "b6c96162"
    },
    {
      "cell_type": "code",
      "metadata": {
        "colab": {
          "base_uri": "https://localhost:8080/",
          "height": 279
        },
        "id": "uLFXrvl4XpZD",
        "outputId": "ba851de5-e61d-48ac-efae-c75a38074652"
      },
      "source": [
        "sns.countplot(x=\"Education\", hue=\"Loan_Status\", data=df_1);"
      ],
      "id": "uLFXrvl4XpZD",
      "execution_count": 26,
      "outputs": [
        {
          "output_type": "display_data",
          "data": {
            "image/png": "[encoded data removed]",
            "text/plain": [
              "<Figure size 432x288 with 1 Axes>"
            ]
          },
          "metadata": {
            "tags": [],
            "needs_background": "light"
          }
        }
      ]
    },
    {
      "cell_type": "markdown",
      "metadata": {
        "id": "42xsKQ5kX4O_"
      },
      "source": [
        "It is seen that most of the people in both the category get loan, but the graduated persons has a chance of easy approval of loan."
      ],
      "id": "42xsKQ5kX4O_"
    },
    {
      "cell_type": "code",
      "metadata": {
        "colab": {
          "base_uri": "https://localhost:8080/"
        },
        "id": "7b1d5952",
        "outputId": "a9bdbf26-0c40-4c39-ce35-bd965fece445"
      },
      "source": [
        "df_1['Credit_History'].value_counts()"
      ],
      "id": "7b1d5952",
      "execution_count": 27,
      "outputs": [
        {
          "output_type": "execute_result",
          "data": {
            "text/plain": [
              "1.000000    475\n",
              "0.000000     89\n",
              "0.842199     50\n",
              "Name: Credit_History, dtype: int64"
            ]
          },
          "metadata": {
            "tags": []
          },
          "execution_count": 27
        }
      ]
    },
    {
      "cell_type": "markdown",
      "metadata": {
        "id": "56feeccb"
      },
      "source": [
        "## Creating a new attributes"
      ],
      "id": "56feeccb"
    },
    {
      "cell_type": "code",
      "metadata": {
        "id": "92ad3c56"
      },
      "source": [
        "#Calculating the total income\n",
        "df_1['Total_Income']= df_1['ApplicantIncome']+df_1['CoapplicantIncome']\n",
        "df_2['Total_Income']= df_2['ApplicantIncome']+df_2['CoapplicantIncome']"
      ],
      "id": "92ad3c56",
      "execution_count": 28,
      "outputs": []
    },
    {
      "cell_type": "code",
      "metadata": {
        "colab": {
          "base_uri": "https://localhost:8080/"
        },
        "id": "f164a048",
        "outputId": "ca168c88-395d-4c00-a9e1-3c631ae08a28"
      },
      "source": [
        "df_1.dtypes"
      ],
      "id": "f164a048",
      "execution_count": 29,
      "outputs": [
        {
          "output_type": "execute_result",
          "data": {
            "text/plain": [
              "Loan_ID               object\n",
              "Gender                object\n",
              "Married               object\n",
              "Dependents            object\n",
              "Education             object\n",
              "Self_Employed         object\n",
              "ApplicantIncome        int64\n",
              "CoapplicantIncome    float64\n",
              "LoanAmount           float64\n",
              "Loan_Amount_Term     float64\n",
              "Credit_History       float64\n",
              "Property_Area         object\n",
              "Loan_Status           object\n",
              "Total_Income         float64\n",
              "dtype: object"
            ]
          },
          "metadata": {
            "tags": []
          },
          "execution_count": 29
        }
      ]
    },
    {
      "cell_type": "code",
      "metadata": {
        "colab": {
          "base_uri": "https://localhost:8080/",
          "height": 279
        },
        "id": "544b1e06",
        "outputId": "9da17b5d-8c3f-4a22-9503-c7f48daa000b"
      },
      "source": [
        "#Analysing numerical attributes\n",
        "sns.distplot(df_1['ApplicantIncome']);"
      ],
      "id": "544b1e06",
      "execution_count": 30,
      "outputs": [
        {
          "output_type": "display_data",
          "data": {
            "image/png": "[encoded data removed]",
            "text/plain": [
              "<Figure size 432x288 with 1 Axes>"
            ]
          },
          "metadata": {
            "tags": [],
            "needs_background": "light"
          }
        }
      ]
    },
    {
      "cell_type": "code",
      "metadata": {
        "colab": {
          "base_uri": "https://localhost:8080/",
          "height": 279
        },
        "id": "3b72f829",
        "outputId": "b2ee723c-dcfa-4987-c2f6-6844d539a3f5"
      },
      "source": [
        "sns.distplot(df_1[\"CoapplicantIncome\"]);"
      ],
      "id": "3b72f829",
      "execution_count": 31,
      "outputs": [
        {
          "output_type": "display_data",
          "data": {
            "image/png": "[encoded data removed]",
            "text/plain": [
              "<Figure size 432x288 with 1 Axes>"
            ]
          },
          "metadata": {
            "tags": [],
            "needs_background": "light"
          }
        }
      ]
    },
    {
      "cell_type": "code",
      "metadata": {
        "colab": {
          "base_uri": "https://localhost:8080/",
          "height": 279
        },
        "id": "adfdfe35",
        "outputId": "f628b39e-a547-4342-ad1f-5ca0165d4f13"
      },
      "source": [
        "sns.distplot(df_1['LoanAmount']);"
      ],
      "id": "adfdfe35",
      "execution_count": 32,
      "outputs": [
        {
          "output_type": "display_data",
          "data": {
            "image/png": "[encoded data removed]",
            "text/plain": [
              "<Figure size 432x288 with 1 Axes>"
            ]
          },
          "metadata": {
            "tags": [],
            "needs_background": "light"
          }
        }
      ]
    },
    {
      "cell_type": "code",
      "metadata": {
        "colab": {
          "base_uri": "https://localhost:8080/",
          "height": 280
        },
        "id": "6947855b",
        "outputId": "777e9f2c-3283-4bf9-c74a-f218fa4458da"
      },
      "source": [
        "sns.distplot(df_1['Loan_Amount_Term']);"
      ],
      "id": "6947855b",
      "execution_count": 33,
      "outputs": [
        {
          "output_type": "display_data",
          "data": {
            "image/png": "[encoded data removed]",
            "text/plain": [
              "<Figure size 432x288 with 1 Axes>"
            ]
          },
          "metadata": {
            "tags": [],
            "needs_background": "light"
          }
        }
      ]
    },
    {
      "cell_type": "code",
      "metadata": {
        "colab": {
          "base_uri": "https://localhost:8080/",
          "height": 280
        },
        "id": "0daefb92",
        "outputId": "25f83394-5c37-4b9a-a8e9-a35f33cde0b8"
      },
      "source": [
        "sns.distplot(df_1['Credit_History']);"
      ],
      "id": "0daefb92",
      "execution_count": 34,
      "outputs": [
        {
          "output_type": "display_data",
          "data": {
            "image/png": "[encoded data removed]",
            "text/plain": [
              "<Figure size 432x288 with 1 Axes>"
            ]
          },
          "metadata": {
            "tags": [],
            "needs_background": "light"
          }
        }
      ]
    },
    {
      "cell_type": "markdown",
      "metadata": {
        "id": "a617bd92"
      },
      "source": [
        "Since all the variables above has noise in the data hence we can apply transformations on the variables to reduce the noise."
      ],
      "id": "a617bd92"
    },
    {
      "cell_type": "code",
      "metadata": {
        "colab": {
          "base_uri": "https://localhost:8080/",
          "height": 296
        },
        "id": "34a0f3df",
        "outputId": "9d66f603-9c95-4955-d0dd-90fcc9d1733f"
      },
      "source": [
        "#Apply log transformation to the above variables\n",
        "df_1['ApplicantIncomeLog']=np.log(df_1['ApplicantIncome']+1)\n",
        "sns.distplot(df_1['ApplicantIncomeLog'])"
      ],
      "id": "34a0f3df",
      "execution_count": 35,
      "outputs": [
        {
          "output_type": "execute_result",
          "data": {
            "text/plain": [
              "<matplotlib.axes._subplots.AxesSubplot at 0x7f2267829ad0>"
            ]
          },
          "metadata": {
            "tags": []
          },
          "execution_count": 35
        },
        {
          "output_type": "display_data",
          "data": {
            "image/png": "[encoded data removed]",
            "text/plain": [
              "<Figure size 432x288 with 1 Axes>"
            ]
          },
          "metadata": {
            "tags": [],
            "needs_background": "light"
          }
        }
      ]
    },
    {
      "cell_type": "code",
      "metadata": {
        "colab": {
          "base_uri": "https://localhost:8080/",
          "height": 298
        },
        "id": "4bdaac87",
        "outputId": "59d140b8-d547-4295-fa6c-d5c0a50e0121"
      },
      "source": [
        "df_2['ApplicantIncomeLog']=np.log(df_2['ApplicantIncome']+1)\n",
        "sns.distplot(df_2['ApplicantIncomeLog'])"
      ],
      "id": "4bdaac87",
      "execution_count": 39,
      "outputs": [
        {
          "output_type": "execute_result",
          "data": {
            "text/plain": [
              "<matplotlib.axes._subplots.AxesSubplot at 0x7f22678f2b50>"
            ]
          },
          "metadata": {
            "tags": []
          },
          "execution_count": 39
        },
        {
          "output_type": "display_data",
          "data": {
            "image/png": "[encoded data removed]",
            "text/plain": [
              "<Figure size 432x288 with 1 Axes>"
            ]
          },
          "metadata": {
            "tags": [],
            "needs_background": "light"
          }
        }
      ]
    },
    {
      "cell_type": "code",
      "metadata": {
        "colab": {
          "base_uri": "https://localhost:8080/",
          "height": 296
        },
        "id": "ca48473c",
        "outputId": "bcfdff84-742e-4d25-e617-447036462474"
      },
      "source": [
        "df_1['CoapplicantIncomeLog'] = np.log(df_1['CoapplicantIncome']+1)\n",
        "sns.distplot(df_1[\"CoapplicantIncomeLog\"])"
      ],
      "id": "ca48473c",
      "execution_count": 40,
      "outputs": [
        {
          "output_type": "execute_result",
          "data": {
            "text/plain": [
              "<matplotlib.axes._subplots.AxesSubplot at 0x7f226adf1ad0>"
            ]
          },
          "metadata": {
            "tags": []
          },
          "execution_count": 40
        },
        {
          "output_type": "display_data",
          "data": {
            "image/png": "[encoded data removed]",
            "text/plain": [
              "<Figure size 432x288 with 1 Axes>"
            ]
          },
          "metadata": {
            "tags": [],
            "needs_background": "light"
          }
        }
      ]
    },
    {
      "cell_type": "code",
      "metadata": {
        "colab": {
          "base_uri": "https://localhost:8080/",
          "height": 296
        },
        "id": "1d07aa3a",
        "outputId": "18bcdb29-7c84-455a-aece-9c8179974d24"
      },
      "source": [
        "df_2['CoapplicantIncomeLog'] = np.log(df_2['CoapplicantIncome']+1)\n",
        "sns.distplot(df_2[\"CoapplicantIncomeLog\"])"
      ],
      "id": "1d07aa3a",
      "execution_count": 41,
      "outputs": [
        {
          "output_type": "execute_result",
          "data": {
            "text/plain": [
              "<matplotlib.axes._subplots.AxesSubplot at 0x7f2269cb4950>"
            ]
          },
          "metadata": {
            "tags": []
          },
          "execution_count": 41
        },
        {
          "output_type": "display_data",
          "data": {
            "image/png": "[encoded data removed]",
            "text/plain": [
              "<Figure size 432x288 with 1 Axes>"
            ]
          },
          "metadata": {
            "tags": [],
            "needs_background": "light"
          }
        }
      ]
    },
    {
      "cell_type": "code",
      "metadata": {
        "colab": {
          "base_uri": "https://localhost:8080/",
          "height": 279
        },
        "id": "3fab8c78",
        "outputId": "df301d46-67ac-4efe-cbea-27804a16550a"
      },
      "source": [
        "df_1['LoanAmountLog'] = np.log(df_1['LoanAmount']+1)\n",
        "sns.distplot(df_1[\"LoanAmountLog\"]);"
      ],
      "id": "3fab8c78",
      "execution_count": 42,
      "outputs": [
        {
          "output_type": "display_data",
          "data": {
            "image/png": "[encoded data removed]",
            "text/plain": [
              "<Figure size 432x288 with 1 Axes>"
            ]
          },
          "metadata": {
            "tags": [],
            "needs_background": "light"
          }
        }
      ]
    },
    {
      "cell_type": "code",
      "metadata": {
        "colab": {
          "base_uri": "https://localhost:8080/",
          "height": 296
        },
        "id": "6f50447e",
        "outputId": "f9a635fb-1f48-4bd2-9d67-392e944bd514"
      },
      "source": [
        "df_2['LoanAmountLog'] = np.log(df_2['LoanAmount']+1)\n",
        "sns.distplot(df_2[\"LoanAmountLog\"])"
      ],
      "id": "6f50447e",
      "execution_count": 43,
      "outputs": [
        {
          "output_type": "execute_result",
          "data": {
            "text/plain": [
              "<matplotlib.axes._subplots.AxesSubplot at 0x7f2267901910>"
            ]
          },
          "metadata": {
            "tags": []
          },
          "execution_count": 43
        },
        {
          "output_type": "display_data",
          "data": {
            "image/png": "[encoded data removed]",
            "text/plain": [
              "<Figure size 432x288 with 1 Axes>"
            ]
          },
          "metadata": {
            "tags": [],
            "needs_background": "light"
          }
        }
      ]
    },
    {
      "cell_type": "code",
      "metadata": {
        "colab": {
          "base_uri": "https://localhost:8080/",
          "height": 297
        },
        "id": "352869c8",
        "outputId": "10bd85ec-6150-423a-b7f8-688994147e15"
      },
      "source": [
        "df_1['Loan_Amount_Term_Log'] = np.log(df_1['Loan_Amount_Term']+1)\n",
        "sns.distplot(df_1[\"Loan_Amount_Term_Log\"])"
      ],
      "id": "352869c8",
      "execution_count": 44,
      "outputs": [
        {
          "output_type": "execute_result",
          "data": {
            "text/plain": [
              "<matplotlib.axes._subplots.AxesSubplot at 0x7f2269c6e390>"
            ]
          },
          "metadata": {
            "tags": []
          },
          "execution_count": 44
        },
        {
          "output_type": "display_data",
          "data": {
            "image/png": "[encoded data removed]",
            "text/plain": [
              "<Figure size 432x288 with 1 Axes>"
            ]
          },
          "metadata": {
            "tags": [],
            "needs_background": "light"
          }
        }
      ]
    },
    {
      "cell_type": "code",
      "metadata": {
        "colab": {
          "base_uri": "https://localhost:8080/",
          "height": 297
        },
        "id": "c22333b6",
        "outputId": "99953083-1e3c-4945-f4ab-8d622a2fdcd9"
      },
      "source": [
        "df_2['Loan_Amount_Term_Log'] = np.log(df_2['Loan_Amount_Term']+1)\n",
        "sns.distplot(df_2[\"Loan_Amount_Term_Log\"])"
      ],
      "id": "c22333b6",
      "execution_count": 45,
      "outputs": [
        {
          "output_type": "execute_result",
          "data": {
            "text/plain": [
              "<matplotlib.axes._subplots.AxesSubplot at 0x7f2267b23d50>"
            ]
          },
          "metadata": {
            "tags": []
          },
          "execution_count": 45
        },
        {
          "output_type": "display_data",
          "data": {
            "image/png": "[encoded data removed]",
            "text/plain": [
              "<Figure size 432x288 with 1 Axes>"
            ]
          },
          "metadata": {
            "tags": [],
            "needs_background": "light"
          }
        }
      ]
    },
    {
      "cell_type": "code",
      "metadata": {
        "colab": {
          "base_uri": "https://localhost:8080/",
          "height": 297
        },
        "id": "59e34ba0",
        "outputId": "ad274735-1689-48f2-9192-b5f2eeae57f3"
      },
      "source": [
        "df_1['Total_Income_Log'] = np.log(df_1['Total_Income']+1)\n",
        "sns.distplot(df_1[\"Total_Income_Log\"])"
      ],
      "id": "59e34ba0",
      "execution_count": 46,
      "outputs": [
        {
          "output_type": "execute_result",
          "data": {
            "text/plain": [
              "<matplotlib.axes._subplots.AxesSubplot at 0x7f2267595fd0>"
            ]
          },
          "metadata": {
            "tags": []
          },
          "execution_count": 46
        },
        {
          "output_type": "display_data",
          "data": {
            "image/png": "[encoded data removed]",
            "text/plain": [
              "<Figure size 432x288 with 1 Axes>"
            ]
          },
          "metadata": {
            "tags": [],
            "needs_background": "light"
          }
        }
      ]
    },
    {
      "cell_type": "code",
      "metadata": {
        "colab": {
          "base_uri": "https://localhost:8080/",
          "height": 301
        },
        "id": "b9636e04",
        "outputId": "ad4e6482-7ec4-4262-9ba0-4b5e5603f0e6"
      },
      "source": [
        "df_2['Total_Income_Log'] = np.log(df_2['Total_Income']+1)\n",
        "sns.distplot(df_2[\"Total_Income_Log\"])"
      ],
      "id": "b9636e04",
      "execution_count": 47,
      "outputs": [
        {
          "output_type": "execute_result",
          "data": {
            "text/plain": [
              "<matplotlib.axes._subplots.AxesSubplot at 0x7f2267548290>"
            ]
          },
          "metadata": {
            "tags": []
          },
          "execution_count": 47
        },
        {
          "output_type": "display_data",
          "data": {
            "image/png": "[encoded data removed]",
            "text/plain": [
              "<Figure size 432x288 with 1 Axes>"
            ]
          },
          "metadata": {
            "tags": [],
            "needs_background": "light"
          }
        }
      ]
    },
    {
      "cell_type": "code",
      "metadata": {
        "id": "69d5a0bd"
      },
      "source": [
        "# drop unnecessary columns\n",
        "cols = ['ApplicantIncome', 'CoapplicantIncome', \"LoanAmount\", \"Loan_Amount_Term\", \"Total_Income\", 'Loan_ID','CoapplicantIncomeLog']\n",
        "df_1 = df_1.drop(columns=cols, axis=1)"
      ],
      "id": "69d5a0bd",
      "execution_count": 48,
      "outputs": []
    },
    {
      "cell_type": "code",
      "metadata": {
        "id": "2505bb11"
      },
      "source": [
        "cols = ['ApplicantIncome', 'CoapplicantIncome', \"LoanAmount\", \"Loan_Amount_Term\", \"Total_Income\", 'Loan_ID','CoapplicantIncomeLog']\n",
        "df_2 = df_2.drop(columns=cols, axis=1)"
      ],
      "id": "2505bb11",
      "execution_count": 49,
      "outputs": []
    },
    {
      "cell_type": "code",
      "metadata": {
        "colab": {
          "base_uri": "https://localhost:8080/",
          "height": 396
        },
        "id": "b68bf162",
        "outputId": "3eed7f83-0175-4102-e38b-c43e8ae8a13b"
      },
      "source": [
        "corr_variables=df_1.corr()\n",
        "plt.figure(figsize=(12,6))\n",
        "sns.heatmap(corr_variables,annot=True,cmap='Blues')"
      ],
      "id": "b68bf162",
      "execution_count": 50,
      "outputs": [
        {
          "output_type": "execute_result",
          "data": {
            "text/plain": [
              "<matplotlib.axes._subplots.AxesSubplot at 0x7f2269cb4dd0>"
            ]
          },
          "metadata": {
            "tags": []
          },
          "execution_count": 50
        },
        {
          "output_type": "display_data",
          "data": {
            "image/png": "[encoded data removed]",
            "text/plain": [
              "<Figure size 864x432 with 2 Axes>"
            ]
          },
          "metadata": {
            "tags": [],
            "needs_background": "light"
          }
        }
      ]
    },
    {
      "cell_type": "markdown",
      "metadata": {
        "id": "f42be12e"
      },
      "source": [
        "Since `ApplicantIncomeLog` is highly correlated with `Total_Income_Log` hence we drop that variable."
      ],
      "id": "f42be12e"
    },
    {
      "cell_type": "code",
      "metadata": {
        "id": "470a4369"
      },
      "source": [
        "df_1.drop(['ApplicantIncomeLog'],axis=1,inplace=True)\n",
        "df_2.drop(['ApplicantIncomeLog'],axis=1,inplace=True)"
      ],
      "id": "470a4369",
      "execution_count": 51,
      "outputs": []
    },
    {
      "cell_type": "code",
      "metadata": {
        "id": "95e8f5af"
      },
      "source": [
        "from sklearn.preprocessing import LabelEncoder\n",
        "cols = ['Gender',\"Married\",\"Education\",'Self_Employed',\"Property_Area\",\"Loan_Status\",\"Dependents\"]\n",
        "encoder = LabelEncoder()\n",
        "for col in cols:\n",
        "    df_1[col] = encoder.fit_transform(df_1[col])"
      ],
      "id": "95e8f5af",
      "execution_count": 52,
      "outputs": []
    },
    {
      "cell_type": "code",
      "metadata": {
        "id": "150e627f"
      },
      "source": [
        "from sklearn.preprocessing import LabelEncoder\n",
        "cols = ['Gender',\"Married\",\"Education\",'Self_Employed',\"Property_Area\",\"Dependents\"]\n",
        "encoder = LabelEncoder()\n",
        "for col in cols:\n",
        "    df_2[col] = encoder.fit_transform(df_2[col])"
      ],
      "id": "150e627f",
      "execution_count": 53,
      "outputs": []
    },
    {
      "cell_type": "code",
      "metadata": {
        "colab": {
          "base_uri": "https://localhost:8080/",
          "height": 505
        },
        "id": "0hbES1I0mguF",
        "outputId": "559f03d9-2e98-41e0-c8cf-eb5e0d7a306f"
      },
      "source": [
        "corr_variables=df_1.corr()\n",
        "plt.figure(figsize=(12,6))\n",
        "sns.heatmap(corr_variables,annot=True,cmap='Blues')"
      ],
      "id": "0hbES1I0mguF",
      "execution_count": 54,
      "outputs": [
        {
          "output_type": "execute_result",
          "data": {
            "text/plain": [
              "<matplotlib.axes._subplots.AxesSubplot at 0x7f2267ae6d90>"
            ]
          },
          "metadata": {
            "tags": []
          },
          "execution_count": 54
        },
        {
          "output_type": "display_data",
          "data": {
            "image/png": "[encoded data removed]",
            "text/plain": [
              "<Figure size 864x432 with 2 Axes>"
            ]
          },
          "metadata": {
            "tags": [],
            "needs_background": "light"
          }
        }
      ]
    },
    {
      "cell_type": "code",
      "metadata": {
        "id": "1e68bb3d"
      },
      "source": [
        "#Seperating the features and target variable\n",
        "X = df_1.drop(columns=['Loan_Status'], axis=1)\n",
        "y = df_1['Loan_Status']"
      ],
      "id": "1e68bb3d",
      "execution_count": 57,
      "outputs": []
    },
    {
      "cell_type": "code",
      "metadata": {
        "colab": {
          "base_uri": "https://localhost:8080/"
        },
        "id": "W0qs4jaAn_Cf",
        "outputId": "e65d0e4d-a78e-46ea-edc7-1f9f3485417d"
      },
      "source": [
        "print(X.shape)\n",
        "print(y.shape)"
      ],
      "id": "W0qs4jaAn_Cf",
      "execution_count": 58,
      "outputs": [
        {
          "output_type": "stream",
          "text": [
            "(614, 10)\n",
            "(614,)\n"
          ],
          "name": "stdout"
        }
      ]
    },
    {
      "cell_type": "code",
      "metadata": {
        "id": "0bdeb501"
      },
      "source": [
        "from sklearn.model_selection import train_test_split\n",
        "x_train, x_test, y_train, y_test = train_test_split(X, y, test_size=0.2, random_state=2, stratify=y)"
      ],
      "id": "0bdeb501",
      "execution_count": 59,
      "outputs": []
    },
    {
      "cell_type": "code",
      "metadata": {
        "colab": {
          "base_uri": "https://localhost:8080/"
        },
        "id": "SLBsWB1DoYJO",
        "outputId": "8f7fc97b-1db5-41f1-eb6a-e8aad66e638e"
      },
      "source": [
        "print(x_train.shape)\n",
        "print(y_train.shape)\n",
        "print(x_test.shape)\n",
        "print(y_test.shape)"
      ],
      "id": "SLBsWB1DoYJO",
      "execution_count": 60,
      "outputs": [
        {
          "output_type": "stream",
          "text": [
            "(491, 10)\n",
            "(491,)\n",
            "(123, 10)\n",
            "(123,)\n"
          ],
          "name": "stdout"
        }
      ]
    },
    {
      "cell_type": "code",
      "metadata": {
        "colab": {
          "base_uri": "https://localhost:8080/"
        },
        "id": "i_cQaRYGoo8x",
        "outputId": "a07507fd-3936-4906-8fa8-1ba70066734b"
      },
      "source": [
        "from sklearn.model_selection import cross_val_score\n",
        "from sklearn.metrics import confusion_matrix,classification_report\n",
        "from sklearn.linear_model import LogisticRegression\n",
        "model = LogisticRegression(max_iter=100)\n",
        "model.fit(x_train,y_train)\n",
        "cross_validation_score=cross_val_score(model,x_train,y_train,cv=5)\n",
        "y_predictions=model.predict(x_test)\n",
        "\n",
        "report=classification_report(y_test,y_predictions)\n",
        "print('Mean cross validation accuracy: ',np.mean(cross_validation_score))\n",
        "print('Accuracy on train dataset: ',model.score(x_train,y_train))\n",
        "print('Accuracy on test dataset: ',model.score(x_test,y_test))\n",
        "print('Confusion Matrix:\\n',confusion_matrix(y_test,y_predictions))\n",
        "print('Classification Report:\\n',report)"
      ],
      "id": "i_cQaRYGoo8x",
      "execution_count": 63,
      "outputs": [
        {
          "output_type": "stream",
          "text": [
            "Mean cross validation accuracy:  0.8105545248402392\n",
            "Accuracy on train dataset:  0.8105906313645621\n",
            "Accuracy on test dataset:  0.8048780487804879\n",
            "Confusion Matrix:\n",
            " [[17 21]\n",
            " [ 3 82]]\n",
            "Classification Report:\n",
            "               precision    recall  f1-score   support\n",
            "\n",
            "           0       0.85      0.45      0.59        38\n",
            "           1       0.80      0.96      0.87        85\n",
            "\n",
            "    accuracy                           0.80       123\n",
            "   macro avg       0.82      0.71      0.73       123\n",
            "weighted avg       0.81      0.80      0.78       123\n",
            "\n"
          ],
          "name": "stdout"
        }
      ]
    },
    {
      "cell_type": "code",
      "metadata": {
        "colab": {
          "base_uri": "https://localhost:8080/"
        },
        "id": "P2ihxccIprpr",
        "outputId": "ac39f0a3-c637-400e-aa8e-ea8ea9140cdf"
      },
      "source": [
        "from sklearn.ensemble import RandomForestClassifier\n",
        "model2 = RandomForestClassifier()\n",
        "model2.fit(x_train,y_train)\n",
        "cross_validation_score=cross_val_score(model2,x_train,y_train,cv=5)\n",
        "y_predictions=model2.predict(x_test)\n",
        "report=classification_report(y_test,y_predictions)\n",
        "print('Mean cross validation score: ',np.mean(cross_validation_score))\n",
        "print('Accuracy on train data: ',model2.score(x_train,y_train))\n",
        "print('Accuracy on test data: ',model2.score(x_test,y_test))\n",
        "print('Confusion Matrix:\\n',confusion_matrix(y_test,y_predictions))\n",
        "print('Classification Report:\\n',report)"
      ],
      "id": "P2ihxccIprpr",
      "execution_count": 65,
      "outputs": [
        {
          "output_type": "stream",
          "text": [
            "Mean cross validation score:  0.788126159554731\n",
            "Accuracy on train data:  1.0\n",
            "Accuracy on test data:  0.7886178861788617\n",
            "Confusion Matrix:\n",
            " [[20 18]\n",
            " [ 8 77]]\n",
            "Classification Report:\n",
            "               precision    recall  f1-score   support\n",
            "\n",
            "           0       0.71      0.53      0.61        38\n",
            "           1       0.81      0.91      0.86        85\n",
            "\n",
            "    accuracy                           0.79       123\n",
            "   macro avg       0.76      0.72      0.73       123\n",
            "weighted avg       0.78      0.79      0.78       123\n",
            "\n"
          ],
          "name": "stdout"
        }
      ]
    },
    {
      "cell_type": "markdown",
      "metadata": {
        "id": "5UOb3n_kt_yM"
      },
      "source": [
        "From above evaluation the RandomForest Classifier is overfitting, since we have a train accuaray=1 and test accuracy=0.78. Here we can control it by controlling max_features(reducing max_features), n_estimators: The more trees, the less likely the algorithm is to overfit."
      ],
      "id": "5UOb3n_kt_yM"
    },
    {
      "cell_type": "markdown",
      "metadata": {
        "id": "xS3ffIShwBe3"
      },
      "source": [
        "## Hyper parameter tuining for RandomForest Classifier"
      ],
      "id": "xS3ffIShwBe3"
    },
    {
      "cell_type": "code",
      "metadata": {
        "id": "IVjcWxCcv4s8"
      },
      "source": [
        "params = {\"n_estimators\":[100,200,300,500],\n",
        "              \"max_features\": [1,2,3,4,5,6],\n",
        "              \"bootstrap\": [True, False],\n",
        "              'class_weight':[None,'balanced'], \n",
        "                'criterion':['entropy','gini'],\n",
        "                'max_depth':[None,5,10,15,20],\n",
        "                'min_samples_leaf':[1,2,5,10,15,20], \n",
        "                #'min_samples_split':[2,5,10,15,20]\n",
        "                  }"
      ],
      "id": "IVjcWxCcv4s8",
      "execution_count": 70,
      "outputs": []
    },
    {
      "cell_type": "code",
      "metadata": {
        "colab": {
          "base_uri": "https://localhost:8080/"
        },
        "id": "QeEv2gV4xJuW",
        "outputId": "c8ef5692-60ad-4025-f55e-2ad451685226"
      },
      "source": [
        "#Total combinations\n",
        "4*6*2*2*2*5*6"
      ],
      "id": "QeEv2gV4xJuW",
      "execution_count": 67,
      "outputs": [
        {
          "output_type": "execute_result",
          "data": {
            "text/plain": [
              "5760"
            ]
          },
          "metadata": {
            "tags": []
          },
          "execution_count": 67
        }
      ]
    },
    {
      "cell_type": "markdown",
      "metadata": {
        "id": "JJg73tf1xnlu"
      },
      "source": [
        "We need to slect 5-10% of combinations to pick randomly for hyperparameter tuning. Hence 5% of combination is around 285."
      ],
      "id": "JJg73tf1xnlu"
    },
    {
      "cell_type": "code",
      "metadata": {
        "colab": {
          "base_uri": "https://localhost:8080/"
        },
        "id": "pOMmjd55yMC6",
        "outputId": "c2647a4b-36e9-4c81-a314-ad336bf2b339"
      },
      "source": [
        "from sklearn.model_selection import RandomizedSearchCV\n",
        "\n",
        "model2 = RandomForestClassifier()\n",
        "random_search = RandomizedSearchCV(model2, param_distributions=params,\n",
        "                                   n_iter=100,scoring='accuracy',cv=5)\n",
        "random_search.fit(x_train, y_train)"
      ],
      "id": "pOMmjd55yMC6",
      "execution_count": 71,
      "outputs": [
        {
          "output_type": "execute_result",
          "data": {
            "text/plain": [
              "RandomizedSearchCV(cv=5, error_score=nan,\n",
              "                   estimator=RandomForestClassifier(bootstrap=True,\n",
              "                                                    ccp_alpha=0.0,\n",
              "                                                    class_weight=None,\n",
              "                                                    criterion='gini',\n",
              "                                                    max_depth=None,\n",
              "                                                    max_features='auto',\n",
              "                                                    max_leaf_nodes=None,\n",
              "                                                    max_samples=None,\n",
              "                                                    min_impurity_decrease=0.0,\n",
              "                                                    min_impurity_split=None,\n",
              "                                                    min_samples_leaf=1,\n",
              "                                                    min_samples_split=2,\n",
              "                                                    min_weight_fraction_leaf=0.0,\n",
              "                                                    n_estimators=100,\n",
              "                                                    n_jobs...\n",
              "                   iid='deprecated', n_iter=100, n_jobs=None,\n",
              "                   param_distributions={'bootstrap': [True, False],\n",
              "                                        'class_weight': [None, 'balanced'],\n",
              "                                        'criterion': ['entropy', 'gini'],\n",
              "                                        'max_depth': [None, 5, 10, 15, 20],\n",
              "                                        'max_features': [1, 2, 3, 4, 5, 6],\n",
              "                                        'min_samples_leaf': [1, 2, 5, 10, 15,\n",
              "                                                             20],\n",
              "                                        'n_estimators': [100, 200, 300, 500]},\n",
              "                   pre_dispatch='2*n_jobs', random_state=None, refit=True,\n",
              "                   return_train_score=False, scoring='accuracy', verbose=0)"
            ]
          },
          "metadata": {
            "tags": []
          },
          "execution_count": 71
        }
      ]
    },
    {
      "cell_type": "code",
      "metadata": {
        "colab": {
          "base_uri": "https://localhost:8080/"
        },
        "id": "HHx507LCyL2A",
        "outputId": "3c5dfaf9-ff75-44d4-cb72-52f542476be0"
      },
      "source": [
        "random_search.best_estimator_"
      ],
      "id": "HHx507LCyL2A",
      "execution_count": 72,
      "outputs": [
        {
          "output_type": "execute_result",
          "data": {
            "text/plain": [
              "RandomForestClassifier(bootstrap=True, ccp_alpha=0.0, class_weight=None,\n",
              "                       criterion='gini', max_depth=20, max_features=5,\n",
              "                       max_leaf_nodes=None, max_samples=None,\n",
              "                       min_impurity_decrease=0.0, min_impurity_split=None,\n",
              "                       min_samples_leaf=10, min_samples_split=2,\n",
              "                       min_weight_fraction_leaf=0.0, n_estimators=200,\n",
              "                       n_jobs=None, oob_score=False, random_state=None,\n",
              "                       verbose=0, warm_start=False)"
            ]
          },
          "metadata": {
            "tags": []
          },
          "execution_count": 72
        }
      ]
    },
    {
      "cell_type": "code",
      "metadata": {
        "id": "shkMrrRJyLo9"
      },
      "source": [
        "def report(results, n_top=3):\n",
        "    for i in range(1, n_top + 1):\n",
        "        candidates = np.flatnonzero(results['rank_test_score'] == i)\n",
        "        for candidate in candidates:\n",
        "            print(\"Model with rank: {0}\".format(i))\n",
        "            print(\"Mean validation score: {0:.3f} (std: {1:.5f})\".format(\n",
        "                  results['mean_test_score'][candidate],\n",
        "                  results['std_test_score'][candidate]))\n",
        "            print(\"Parameters: {0}\".format(results['params'][candidate]))\n",
        "            print(\"\")"
      ],
      "id": "shkMrrRJyLo9",
      "execution_count": 73,
      "outputs": []
    },
    {
      "cell_type": "code",
      "metadata": {
        "colab": {
          "base_uri": "https://localhost:8080/"
        },
        "id": "v9QVUVrK0-46",
        "outputId": "84f22be7-4b91-4d1b-bec1-d65bbd645542"
      },
      "source": [
        "report(random_search.cv_results_,5)"
      ],
      "id": "v9QVUVrK0-46",
      "execution_count": 75,
      "outputs": [
        {
          "output_type": "stream",
          "text": [
            "Model with rank: 1\n",
            "Mean validation score: 0.811 (std: 0.01694)\n",
            "Parameters: {'n_estimators': 200, 'min_samples_leaf': 10, 'max_features': 5, 'max_depth': 20, 'criterion': 'gini', 'class_weight': None, 'bootstrap': True}\n",
            "\n",
            "Model with rank: 1\n",
            "Mean validation score: 0.811 (std: 0.01694)\n",
            "Parameters: {'n_estimators': 500, 'min_samples_leaf': 20, 'max_features': 4, 'max_depth': 5, 'criterion': 'entropy', 'class_weight': None, 'bootstrap': False}\n",
            "\n",
            "Model with rank: 1\n",
            "Mean validation score: 0.811 (std: 0.01694)\n",
            "Parameters: {'n_estimators': 200, 'min_samples_leaf': 15, 'max_features': 4, 'max_depth': 20, 'criterion': 'gini', 'class_weight': None, 'bootstrap': False}\n",
            "\n",
            "Model with rank: 1\n",
            "Mean validation score: 0.811 (std: 0.01694)\n",
            "Parameters: {'n_estimators': 500, 'min_samples_leaf': 15, 'max_features': 4, 'max_depth': None, 'criterion': 'gini', 'class_weight': None, 'bootstrap': False}\n",
            "\n",
            "Model with rank: 1\n",
            "Mean validation score: 0.811 (std: 0.01694)\n",
            "Parameters: {'n_estimators': 200, 'min_samples_leaf': 15, 'max_features': 3, 'max_depth': None, 'criterion': 'entropy', 'class_weight': None, 'bootstrap': True}\n",
            "\n",
            "Model with rank: 1\n",
            "Mean validation score: 0.811 (std: 0.02652)\n",
            "Parameters: {'n_estimators': 200, 'min_samples_leaf': 2, 'max_features': 1, 'max_depth': 10, 'criterion': 'entropy', 'class_weight': None, 'bootstrap': False}\n",
            "\n",
            "Model with rank: 1\n",
            "Mean validation score: 0.811 (std: 0.01694)\n",
            "Parameters: {'n_estimators': 200, 'min_samples_leaf': 15, 'max_features': 3, 'max_depth': 15, 'criterion': 'entropy', 'class_weight': None, 'bootstrap': True}\n",
            "\n",
            "Model with rank: 1\n",
            "Mean validation score: 0.811 (std: 0.01694)\n",
            "Parameters: {'n_estimators': 500, 'min_samples_leaf': 10, 'max_features': 3, 'max_depth': 5, 'criterion': 'gini', 'class_weight': None, 'bootstrap': False}\n",
            "\n",
            "Model with rank: 1\n",
            "Mean validation score: 0.811 (std: 0.01694)\n",
            "Parameters: {'n_estimators': 500, 'min_samples_leaf': 20, 'max_features': 6, 'max_depth': 10, 'criterion': 'gini', 'class_weight': None, 'bootstrap': True}\n",
            "\n",
            "Model with rank: 1\n",
            "Mean validation score: 0.811 (std: 0.01694)\n",
            "Parameters: {'n_estimators': 100, 'min_samples_leaf': 20, 'max_features': 3, 'max_depth': 10, 'criterion': 'entropy', 'class_weight': None, 'bootstrap': True}\n",
            "\n",
            "Model with rank: 1\n",
            "Mean validation score: 0.811 (std: 0.01694)\n",
            "Parameters: {'n_estimators': 500, 'min_samples_leaf': 15, 'max_features': 6, 'max_depth': 15, 'criterion': 'entropy', 'class_weight': None, 'bootstrap': True}\n",
            "\n",
            "Model with rank: 1\n",
            "Mean validation score: 0.811 (std: 0.01694)\n",
            "Parameters: {'n_estimators': 200, 'min_samples_leaf': 20, 'max_features': 6, 'max_depth': None, 'criterion': 'entropy', 'class_weight': None, 'bootstrap': True}\n",
            "\n",
            "Model with rank: 1\n",
            "Mean validation score: 0.811 (std: 0.01694)\n",
            "Parameters: {'n_estimators': 200, 'min_samples_leaf': 20, 'max_features': 2, 'max_depth': 20, 'criterion': 'gini', 'class_weight': None, 'bootstrap': True}\n",
            "\n"
          ],
          "name": "stdout"
        }
      ]
    },
    {
      "cell_type": "code",
      "metadata": {
        "colab": {
          "base_uri": "https://localhost:8080/"
        },
        "id": "MIF7xeh41gjW",
        "outputId": "ac9beecc-a434-46c0-b90f-a66b30ef766f"
      },
      "source": [
        "model2 = RandomForestClassifier(bootstrap=True, ccp_alpha=0.0, class_weight=None,\n",
        "                       criterion='gini', max_depth=20, max_features=5,\n",
        "                       max_leaf_nodes=None, max_samples=None,\n",
        "                       min_impurity_decrease=0.0, min_impurity_split=None,\n",
        "                       min_samples_leaf=10, min_samples_split=2,\n",
        "                       min_weight_fraction_leaf=0.0, n_estimators=200,\n",
        "                       n_jobs=None, oob_score=False, random_state=None,\n",
        "                       verbose=0, warm_start=False)\n",
        "model2.fit(x_train,y_train)\n",
        "cross_validation_score_rf=cross_val_score(model2,x_train,y_train,cv=5)\n",
        "y_predictions=model2.predict(x_test)\n",
        "report_rf=classification_report(y_test,y_predictions)\n",
        "print('Mean cross validation score: ',np.mean(cross_validation_score_rf))\n",
        "print('Accuracy on train data: ',model2.score(x_train,y_train))\n",
        "print('Accuracy on test data: ',model2.score(x_test,y_test))\n",
        "print('Confusion Matrix:\\n',confusion_matrix(y_test,y_predictions))\n",
        "print('Classification Report:\\n',report_rf)"
      ],
      "id": "MIF7xeh41gjW",
      "execution_count": 77,
      "outputs": [
        {
          "output_type": "stream",
          "text": [
            "Mean cross validation score:  0.8105545248402392\n",
            "Accuracy on train data:  0.8105906313645621\n",
            "Accuracy on test data:  0.8048780487804879\n",
            "Confusion Matrix:\n",
            " [[17 21]\n",
            " [ 3 82]]\n",
            "Classification Report:\n",
            "               precision    recall  f1-score   support\n",
            "\n",
            "           0       0.85      0.45      0.59        38\n",
            "           1       0.80      0.96      0.87        85\n",
            "\n",
            "    accuracy                           0.80       123\n",
            "   macro avg       0.82      0.71      0.73       123\n",
            "weighted avg       0.81      0.80      0.78       123\n",
            "\n"
          ],
          "name": "stdout"
        }
      ]
    },
    {
      "cell_type": "code",
      "metadata": {
        "colab": {
          "base_uri": "https://localhost:8080/"
        },
        "id": "BudbdlA_oczT",
        "outputId": "427aec72-21c8-483c-f08d-d47462ce7351"
      },
      "source": [
        "from xgboost import XGBClassifier\n",
        "\n",
        "model=XGBClassifier()\n",
        "model.fit(x_train,y_train)\n",
        "cross_validation_score=cross_val_score(model,x_train,y_train,cv=5)\n",
        "y_predictions=model.predict(x_test)\n",
        "report=classification_report(y_test,y_predictions)  \n",
        "print('Mean cross validation score: ',np.mean(cross_validation_score))\n",
        "print('Accuracy on train data: ', model.score(x_train,y_train))\n",
        "print('Accuracy on test data: ', model.score(x_test,y_test))\n",
        "print('Confusion Matrix:\\n',confusion_matrix(y_test,y_predictions))\n",
        "print('Classification Report:\\n',report)"
      ],
      "id": "BudbdlA_oczT",
      "execution_count": 66,
      "outputs": [
        {
          "output_type": "stream",
          "text": [
            "Mean cross validation score:  0.7841063698206555\n",
            "Accuracy on train data:  0.879837067209776\n",
            "Accuracy on test data:  0.8048780487804879\n",
            "Confusion Matrix:\n",
            " [[20 18]\n",
            " [ 6 79]]\n",
            "Classification Report:\n",
            "               precision    recall  f1-score   support\n",
            "\n",
            "           0       0.77      0.53      0.62        38\n",
            "           1       0.81      0.93      0.87        85\n",
            "\n",
            "    accuracy                           0.80       123\n",
            "   macro avg       0.79      0.73      0.75       123\n",
            "weighted avg       0.80      0.80      0.79       123\n",
            "\n"
          ],
          "name": "stdout"
        }
      ]
    },
    {
      "cell_type": "code",
      "metadata": {
        "id": "ZVOpxwOry_Sh"
      },
      "source": [
        ""
      ],
      "id": "ZVOpxwOry_Sh",
      "execution_count": null,
      "outputs": []
    }
  ]
}